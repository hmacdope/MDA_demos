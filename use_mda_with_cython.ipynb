{
 "cells": [
  {
   "cell_type": "code",
   "execution_count": 1,
   "id": "6d0b27f9-b856-4e25-8aa7-3981a7a51e46",
   "metadata": {},
   "outputs": [],
   "source": [
    "%load_ext Cython"
   ]
  },
  {
   "cell_type": "code",
   "execution_count": 17,
   "id": "74457c40-585f-45bf-b980-5a0db7751372",
   "metadata": {},
   "outputs": [],
   "source": [
    "import MDAnalysis as mda\n",
    "import cython\n",
    "import numpy"
   ]
  },
  {
   "cell_type": "code",
   "execution_count": 19,
   "id": "59449b88-701b-435a-af63-5fec0d264529",
   "metadata": {},
   "outputs": [],
   "source": [
    "%%cython\n",
    "cimport numpy as cnp\n"
   ]
  },
  {
   "cell_type": "code",
   "execution_count": 15,
   "id": "66898c6e-21fb-4e5d-b656-5b7d9fe69b41",
   "metadata": {},
   "outputs": [],
   "source": [
    "from Cython.Build import cythonize"
   ]
  },
  {
   "cell_type": "code",
   "execution_count": 16,
   "id": "b758dc08-6f39-4ad6-a4a4-3bcd77cf7296",
   "metadata": {},
   "outputs": [
    {
     "data": {
      "text/plain": [
       "\u001b[0;31mSignature:\u001b[0m\n",
       "\u001b[0mcythonize\u001b[0m\u001b[0;34m(\u001b[0m\u001b[0;34m\u001b[0m\n",
       "\u001b[0;34m\u001b[0m    \u001b[0mmodule_list\u001b[0m\u001b[0;34m,\u001b[0m\u001b[0;34m\u001b[0m\n",
       "\u001b[0;34m\u001b[0m    \u001b[0mexclude\u001b[0m\u001b[0;34m=\u001b[0m\u001b[0;32mNone\u001b[0m\u001b[0;34m,\u001b[0m\u001b[0;34m\u001b[0m\n",
       "\u001b[0;34m\u001b[0m    \u001b[0mnthreads\u001b[0m\u001b[0;34m=\u001b[0m\u001b[0;36m0\u001b[0m\u001b[0;34m,\u001b[0m\u001b[0;34m\u001b[0m\n",
       "\u001b[0;34m\u001b[0m    \u001b[0maliases\u001b[0m\u001b[0;34m=\u001b[0m\u001b[0;32mNone\u001b[0m\u001b[0;34m,\u001b[0m\u001b[0;34m\u001b[0m\n",
       "\u001b[0;34m\u001b[0m    \u001b[0mquiet\u001b[0m\u001b[0;34m=\u001b[0m\u001b[0;32mFalse\u001b[0m\u001b[0;34m,\u001b[0m\u001b[0;34m\u001b[0m\n",
       "\u001b[0;34m\u001b[0m    \u001b[0mforce\u001b[0m\u001b[0;34m=\u001b[0m\u001b[0;32mNone\u001b[0m\u001b[0;34m,\u001b[0m\u001b[0;34m\u001b[0m\n",
       "\u001b[0;34m\u001b[0m    \u001b[0mlanguage\u001b[0m\u001b[0;34m=\u001b[0m\u001b[0;32mNone\u001b[0m\u001b[0;34m,\u001b[0m\u001b[0;34m\u001b[0m\n",
       "\u001b[0;34m\u001b[0m    \u001b[0mexclude_failures\u001b[0m\u001b[0;34m=\u001b[0m\u001b[0;32mFalse\u001b[0m\u001b[0;34m,\u001b[0m\u001b[0;34m\u001b[0m\n",
       "\u001b[0;34m\u001b[0m    \u001b[0mshow_all_warnings\u001b[0m\u001b[0;34m=\u001b[0m\u001b[0;32mFalse\u001b[0m\u001b[0;34m,\u001b[0m\u001b[0;34m\u001b[0m\n",
       "\u001b[0;34m\u001b[0m    \u001b[0;34m**\u001b[0m\u001b[0moptions\u001b[0m\u001b[0;34m,\u001b[0m\u001b[0;34m\u001b[0m\n",
       "\u001b[0;34m\u001b[0m\u001b[0;34m)\u001b[0m\u001b[0;34m\u001b[0m\u001b[0;34m\u001b[0m\u001b[0m\n",
       "\u001b[0;31mDocstring:\u001b[0m\n",
       "Compile a set of source modules into C/C++ files and return a list of distutils\n",
       "Extension objects for them.\n",
       "\n",
       ":param module_list: As module list, pass either a glob pattern, a list of glob\n",
       "                    patterns or a list of Extension objects.  The latter\n",
       "                    allows you to configure the extensions separately\n",
       "                    through the normal distutils options.\n",
       "                    You can also pass Extension objects that have\n",
       "                    glob patterns as their sources. Then, cythonize\n",
       "                    will resolve the pattern and create a\n",
       "                    copy of the Extension for every matching file.\n",
       "\n",
       ":param exclude: When passing glob patterns as ``module_list``, you can exclude certain\n",
       "                module names explicitly by passing them into the ``exclude`` option.\n",
       "\n",
       ":param nthreads: The number of concurrent builds for parallel compilation\n",
       "                 (requires the ``multiprocessing`` module).\n",
       "\n",
       ":param aliases: If you want to use compiler directives like ``# distutils: ...`` but\n",
       "                can only know at compile time (when running the ``setup.py``) which values\n",
       "                to use, you can use aliases and pass a dictionary mapping those aliases\n",
       "                to Python strings when calling :func:`cythonize`. As an example, say you\n",
       "                want to use the compiler\n",
       "                directive ``# distutils: include_dirs = ../static_libs/include/``\n",
       "                but this path isn't always fixed and you want to find it when running\n",
       "                the ``setup.py``. You can then do ``# distutils: include_dirs = MY_HEADERS``,\n",
       "                find the value of ``MY_HEADERS`` in the ``setup.py``, put it in a python\n",
       "                variable called ``foo`` as a string, and then call\n",
       "                ``cythonize(..., aliases={'MY_HEADERS': foo})``.\n",
       "\n",
       ":param quiet: If True, Cython won't print error, warning, or status messages during the\n",
       "              compilation.\n",
       "\n",
       ":param force: Forces the recompilation of the Cython modules, even if the timestamps\n",
       "              don't indicate that a recompilation is necessary.\n",
       "\n",
       ":param language: To globally enable C++ mode, you can pass ``language='c++'``. Otherwise, this\n",
       "                 will be determined at a per-file level based on compiler directives.  This\n",
       "                 affects only modules found based on file names.  Extension instances passed\n",
       "                 into :func:`cythonize` will not be changed. It is recommended to rather\n",
       "                 use the compiler directive ``# distutils: language = c++`` than this option.\n",
       "\n",
       ":param exclude_failures: For a broad 'try to compile' mode that ignores compilation\n",
       "                         failures and simply excludes the failed extensions,\n",
       "                         pass ``exclude_failures=True``. Note that this only\n",
       "                         really makes sense for compiling ``.py`` files which can also\n",
       "                         be used without compilation.\n",
       "\n",
       ":param show_all_warnings: By default, not all Cython warnings are printed.\n",
       "                          Set to true to show all warnings.\n",
       "\n",
       ":param annotate: If ``True``, will produce a HTML file for each of the ``.pyx`` or ``.py``\n",
       "                 files compiled. The HTML file gives an indication\n",
       "                 of how much Python interaction there is in\n",
       "                 each of the source code lines, compared to plain C code.\n",
       "                 It also allows you to see the C/C++ code\n",
       "                 generated for each line of Cython code. This report is invaluable when\n",
       "                 optimizing a function for speed,\n",
       "                 and for determining when to :ref:`release the GIL <nogil>`:\n",
       "                 in general, a ``nogil`` block may contain only \"white\" code.\n",
       "                 See examples in :ref:`determining_where_to_add_types` or\n",
       "                 :ref:`primes`.\n",
       "\n",
       "\n",
       ":param annotate-fullc: If ``True`` will produce a colorized HTML version of\n",
       "                       the source which includes entire generated C/C++-code.\n",
       "\n",
       "\n",
       ":param compiler_directives: Allow to set compiler directives in the ``setup.py`` like this:\n",
       "                            ``compiler_directives={'embedsignature': True}``.\n",
       "                            See :ref:`compiler-directives`.\n",
       "\n",
       ":param depfile: produce depfiles for the sources if True.\n",
       "\u001b[0;31mFile:\u001b[0m      ~/miniconda3/envs/asapdiscovery_v7/lib/python3.10/site-packages/Cython/Build/Dependencies.py\n",
       "\u001b[0;31mType:\u001b[0m      function"
      ]
     },
     "metadata": {},
     "output_type": "display_data"
    }
   ],
   "source": []
  },
  {
   "cell_type": "code",
   "execution_count": null,
   "id": "1b7a35ee-b989-4a88-abea-4c1f3ccbe4c8",
   "metadata": {},
   "outputs": [],
   "source": []
  }
 ],
 "metadata": {
  "kernelspec": {
   "display_name": "Python 3 (ipykernel)",
   "language": "python",
   "name": "python3"
  },
  "language_info": {
   "codemirror_mode": {
    "name": "ipython",
    "version": 3
   },
   "file_extension": ".py",
   "mimetype": "text/x-python",
   "name": "python",
   "nbconvert_exporter": "python",
   "pygments_lexer": "ipython3",
   "version": "3.10.14"
  }
 },
 "nbformat": 4,
 "nbformat_minor": 5
}
