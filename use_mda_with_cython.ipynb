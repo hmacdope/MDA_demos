{
 "cells": [
  {
   "cell_type": "code",
   "execution_count": 1,
   "id": "6d0b27f9-b856-4e25-8aa7-3981a7a51e46",
   "metadata": {},
   "outputs": [],
   "source": [
    "%load_ext Cython\n"
   ]
  },
  {
   "cell_type": "code",
   "execution_count": 2,
   "id": "74457c40-585f-45bf-b980-5a0db7751372",
   "metadata": {},
   "outputs": [],
   "source": [
    "import MDAnalysis as mda"
   ]
  },
  {
   "cell_type": "code",
   "execution_count": 3,
   "id": "f16f79af-f750-404f-8bae-0812192bfa3e",
   "metadata": {},
   "outputs": [],
   "source": [
    "import cython"
   ]
  },
  {
   "cell_type": "code",
   "execution_count": 13,
   "id": "59449b88-701b-435a-af63-5fec0d264529",
   "metadata": {},
   "outputs": [
    {
     "ename": "SyntaxError",
     "evalue": "invalid syntax (2398702118.py, line 1)",
     "output_type": "error",
     "traceback": [
      "\u001b[0;36m  Cell \u001b[0;32mIn[13], line 1\u001b[0;36m\u001b[0m\n\u001b[0;31m    cimport numpy as cnp\u001b[0m\n\u001b[0m            ^\u001b[0m\n\u001b[0;31mSyntaxError\u001b[0m\u001b[0;31m:\u001b[0m invalid syntax\n"
     ]
    }
   ],
   "source": [
    "cimport numpy as cnp\n",
    "from MDAnalysis.lib import c_distances"
   ]
  },
  {
   "cell_type": "code",
   "execution_count": null,
   "id": "66898c6e-21fb-4e5d-b656-5b7d9fe69b41",
   "metadata": {},
   "outputs": [],
   "source": []
  },
  {
   "cell_type": "code",
   "execution_count": null,
   "id": "b758dc08-6f39-4ad6-a4a4-3bcd77cf7296",
   "metadata": {},
   "outputs": [],
   "source": []
  }
 ],
 "metadata": {
  "kernelspec": {
   "display_name": "Python 3 (ipykernel)",
   "language": "python",
   "name": "python3"
  },
  "language_info": {
   "codemirror_mode": {
    "name": "ipython",
    "version": 3
   },
   "file_extension": ".py",
   "mimetype": "text/x-python",
   "name": "python",
   "nbconvert_exporter": "python",
   "pygments_lexer": "ipython3",
   "version": "3.10.14"
  }
 },
 "nbformat": 4,
 "nbformat_minor": 5
}
